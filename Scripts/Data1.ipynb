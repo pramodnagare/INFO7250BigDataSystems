{
 "cells": [
  {
   "cell_type": "code",
   "execution_count": 1,
   "metadata": {},
   "outputs": [],
   "source": [
    "#This jupyter notebok is for downloading data from s3 bucket to local file system:"
   ]
  },
  {
   "cell_type": "code",
   "execution_count": 2,
   "metadata": {},
   "outputs": [],
   "source": [
    "import boto3\n",
    "import botocore\n",
    "import time\n",
    "import os"
   ]
  },
  {
   "cell_type": "code",
   "execution_count": 3,
   "metadata": {},
   "outputs": [],
   "source": [
    "data_link = \"amazon-reviews-pds\"\n",
    "output_dir = \"../Data/\""
   ]
  },
  {
   "cell_type": "code",
   "execution_count": 4,
   "metadata": {},
   "outputs": [],
   "source": [
    "s3 = boto3.client('s3')"
   ]
  },
  {
   "cell_type": "code",
   "execution_count": 5,
   "metadata": {},
   "outputs": [],
   "source": [
    "response = s3.list_objects_v2(Bucket=data_link)"
   ]
  },
  {
   "cell_type": "code",
   "execution_count": 7,
   "metadata": {},
   "outputs": [
    {
     "name": "stdout",
     "output_type": "stream",
     "text": [
      "Downloaded file tsv/amazon_reviews_multilingual_DE_v1_00.tsv.gz of Size 241896005 in 8.87390661239624 secs!\n",
      "Downloaded file tsv/amazon_reviews_multilingual_FR_v1_00.tsv.gz of Size 70583516 in 3.186600685119629 secs!\n",
      "Downloaded file tsv/amazon_reviews_multilingual_JP_v1_00.tsv.gz of Size 94688992 in 3.8114795684814453 secs!\n",
      "Downloaded file tsv/amazon_reviews_multilingual_UK_v1_00.tsv.gz of Size 349370868 in 12.191514730453491 secs!\n",
      "Downloaded file tsv/amazon_reviews_multilingual_US_v1_00.tsv.gz of Size 1466965039 in 53.03833484649658 secs!\n",
      "Downloaded file tsv/amazon_reviews_us_Apparel_v1_00.tsv.gz of Size 648641286 in 26.690003871917725 secs!\n",
      "Downloaded file tsv/amazon_reviews_us_Automotive_v1_00.tsv.gz of Size 582145299 in 22.380280256271362 secs!\n",
      "Downloaded file tsv/amazon_reviews_us_Baby_v1_00.tsv.gz of Size 357392893 in 13.14886474609375 secs!\n",
      "Downloaded file tsv/amazon_reviews_us_Beauty_v1_00.tsv.gz of Size 914070021 in 33.867822885513306 secs!\n",
      "Downloaded file tsv/amazon_reviews_us_Books_v1_00.tsv.gz of Size 2740337188 in 112.72027945518494 secs!\n",
      "Downloaded file tsv/amazon_reviews_us_Books_v1_01.tsv.gz of Size 2692708591 in 102.54962587356567 secs!\n",
      "Downloaded file tsv/amazon_reviews_us_Books_v1_02.tsv.gz of Size 1329539135 in 49.838849782943726 secs!\n",
      "Downloaded file tsv/amazon_reviews_us_Camera_v1_00.tsv.gz of Size 442653086 in 17.834463596343994 secs!\n",
      "Downloaded file tsv/amazon_reviews_us_Digital_Ebook_Purchase_v1_00.tsv.gz of Size 2689739299 in 99.44177150726318 secs!\n",
      "Downloaded file tsv/amazon_reviews_us_Digital_Ebook_Purchase_v1_01.tsv.gz of Size 1294879074 in 49.581167697906494 secs!\n",
      "Downloaded file tsv/amazon_reviews_us_Digital_Music_Purchase_v1_00.tsv.gz of Size 253570168 in 10.615570306777954 secs!\n",
      "Downloaded file tsv/amazon_reviews_us_Digital_Software_v1_00.tsv.gz of Size 18997559 in 1.7542269229888916 secs!\n",
      "Downloaded file tsv/amazon_reviews_us_Digital_Video_Download_v1_00.tsv.gz of Size 506979922 in 20.582672357559204 secs!\n",
      "Downloaded file tsv/amazon_reviews_us_Digital_Video_Games_v1_00.tsv.gz of Size 27442648 in 2.273703098297119 secs!\n",
      "Downloaded file tsv/amazon_reviews_us_Electronics_v1_00.tsv.gz of Size 698828243 in 28.041343927383423 secs!\n",
      "Downloaded file tsv/amazon_reviews_us_Furniture_v1_00.tsv.gz of Size 148982796 in 6.152956247329712 secs!\n",
      "Downloaded file tsv/amazon_reviews_us_Gift_Card_v1_00.tsv.gz of Size 12134676 in 1.7060608863830566 secs!\n",
      "Downloaded file tsv/amazon_reviews_us_Grocery_v1_00.tsv.gz of Size 401337166 in 15.047188758850098 secs!\n",
      "Downloaded file tsv/amazon_reviews_us_Health_Personal_Care_v1_00.tsv.gz of Size 1011180212 in 40.98625588417053 secs!\n",
      "Downloaded file tsv/amazon_reviews_us_Home_Entertainment_v1_00.tsv.gz of Size 193168458 in 6.856074094772339 secs!\n",
      "Downloaded file tsv/amazon_reviews_us_Home_Improvement_v1_00.tsv.gz of Size 503339178 in 17.699682235717773 secs!\n",
      "Downloaded file tsv/amazon_reviews_us_Home_v1_00.tsv.gz of Size 1081002012 in 36.35623359680176 secs!\n",
      "Downloaded file tsv/amazon_reviews_us_Jewelry_v1_00.tsv.gz of Size 247022254 in 9.543847560882568 secs!\n",
      "Downloaded file tsv/amazon_reviews_us_Kitchen_v1_00.tsv.gz of Size 930744854 in 33.640276193618774 secs!\n",
      "Downloaded file tsv/amazon_reviews_us_Lawn_and_Garden_v1_00.tsv.gz of Size 486772662 in 18.73474407196045 secs!\n",
      "Downloaded file tsv/amazon_reviews_us_Luggage_v1_00.tsv.gz of Size 60320191 in 3.089712142944336 secs!\n",
      "Downloaded file tsv/amazon_reviews_us_Major_Appliances_v1_00.tsv.gz of Size 24359816 in 1.6990678310394287 secs!\n",
      "Downloaded file tsv/amazon_reviews_us_Mobile_Apps_v1_00.tsv.gz of Size 557959415 in 19.043478965759277 secs!\n",
      "Downloaded file tsv/amazon_reviews_us_Mobile_Electronics_v1_00.tsv.gz of Size 22870508 in 2.3837900161743164 secs!\n",
      "Downloaded file tsv/amazon_reviews_us_Music_v1_00.tsv.gz of Size 1521994296 in 58.23514223098755 secs!\n",
      "Downloaded file tsv/amazon_reviews_us_Musical_Instruments_v1_00.tsv.gz of Size 193389086 in 6.840044736862183 secs!\n",
      "Downloaded file tsv/amazon_reviews_us_Office_Products_v1_00.tsv.gz of Size 512323500 in 19.398630142211914 secs!\n",
      "Downloaded file tsv/amazon_reviews_us_Outdoors_v1_00.tsv.gz of Size 448963100 in 20.44742774963379 secs!\n",
      "Downloaded file tsv/amazon_reviews_us_PC_v1_00.tsv.gz of Size 1512903923 in 61.652222871780396 secs!\n",
      "Downloaded file tsv/amazon_reviews_us_Personal_Care_Appliances_v1_00.tsv.gz of Size 17634794 in 2.223975896835327 secs!\n",
      "Downloaded file tsv/amazon_reviews_us_Pet_Products_v1_00.tsv.gz of Size 515815253 in 20.669934034347534 secs!\n",
      "Downloaded file tsv/amazon_reviews_us_Shoes_v1_00.tsv.gz of Size 642255314 in 26.95117950439453 secs!\n",
      "Downloaded file tsv/amazon_reviews_us_Software_v1_00.tsv.gz of Size 94010685 in 3.925139904022217 secs!\n",
      "Downloaded file tsv/amazon_reviews_us_Sports_v1_00.tsv.gz of Size 872478735 in 35.93753433227539 secs!\n",
      "Downloaded file tsv/amazon_reviews_us_Tools_v1_00.tsv.gz of Size 333782939 in 14.204396963119507 secs!\n",
      "Downloaded file tsv/amazon_reviews_us_Toys_v1_00.tsv.gz of Size 838451398 in 33.98161697387695 secs!\n",
      "Downloaded file tsv/amazon_reviews_us_Video_DVD_v1_00.tsv.gz of Size 1512355451 in 60.31535863876343 secs!\n",
      "Downloaded file tsv/amazon_reviews_us_Video_Games_v1_00.tsv.gz of Size 475199894 in 19.77884268760681 secs!\n",
      "Downloaded file tsv/amazon_reviews_us_Video_v1_00.tsv.gz of Size 138929896 in 6.430764198303223 secs!\n",
      "Downloaded file tsv/amazon_reviews_us_Watches_v1_00.tsv.gz of Size 162973819 in 8.938550233840942 secs!\n",
      "Downloaded file tsv/amazon_reviews_us_Wireless_v1_00.tsv.gz of Size 1704713674 in 66.26037549972534 secs!\n",
      "Downloaded file tsv/index.txt of Size 6162 in 0.07812309265136719 secs!\n",
      "Downloaded file tsv/sample_fr.tsv of Size 17553 in 0.1093282699584961 secs!\n",
      "Downloaded file tsv/sample_us.tsv of Size 15906 in 0.09183192253112793 secs!\n",
      "Time for execution:  1351.83327126503\n"
     ]
    }
   ],
   "source": [
    "start = time.time()\n",
    "for item in response['Contents']:\n",
    "    if str(item['Key']).startswith('tsv'):\n",
    "        head, file = os.path.split(item['Key'])\n",
    "        if file != \"\":\n",
    "            filename = output_dir + file\n",
    "            s = time.time()\n",
    "            s3.download_file(Bucket=data_link, Key=item['Key'], Filename=filename)\n",
    "            e = time.time()\n",
    "            print(\"Downloaded file {} of Size {} in {} secs!\".format(item['Key'], item['Size'], e-s))\n",
    "end = time.time()\n",
    "print(\"Time for execution: \", end-start)"
   ]
  },
  {
   "cell_type": "code",
   "execution_count": null,
   "metadata": {},
   "outputs": [],
   "source": []
  },
  {
   "cell_type": "code",
   "execution_count": null,
   "metadata": {},
   "outputs": [],
   "source": []
  }
 ],
 "metadata": {
  "kernelspec": {
   "display_name": "Python 3",
   "language": "python",
   "name": "python3"
  },
  "language_info": {
   "codemirror_mode": {
    "name": "ipython",
    "version": 3
   },
   "file_extension": ".py",
   "mimetype": "text/x-python",
   "name": "python",
   "nbconvert_exporter": "python",
   "pygments_lexer": "ipython3",
   "version": "3.7.3"
  }
 },
 "nbformat": 4,
 "nbformat_minor": 2
}
