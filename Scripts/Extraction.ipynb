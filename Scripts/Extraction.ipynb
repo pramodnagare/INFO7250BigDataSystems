{
 "cells": [
  {
   "cell_type": "code",
   "execution_count": 1,
   "metadata": {},
   "outputs": [],
   "source": [
    "import time\n",
    "import glob\n",
    "import gzip\n",
    "import shutil\n",
    "import os\n",
    "from multiprocessing.pool import ThreadPool"
   ]
  },
  {
   "cell_type": "code",
   "execution_count": 2,
   "metadata": {},
   "outputs": [],
   "source": [
    "input_folder = r\"../Data/\"\n",
    "output_folder = r\"../Main_Data/\"\n",
    "file_type = \".tsv.gz\""
   ]
  },
  {
   "cell_type": "code",
   "execution_count": 3,
   "metadata": {},
   "outputs": [
    {
     "name": "stdout",
     "output_type": "stream",
     "text": [
      "Total Number of file to extract: 51\n"
     ]
    }
   ],
   "source": [
    "files = glob.glob(input_folder+\"*.tsv.gz\")\n",
    "print(\"Total Number of file to extract: {}\".format(len(files)))"
   ]
  },
  {
   "cell_type": "code",
   "execution_count": 4,
   "metadata": {},
   "outputs": [],
   "source": [
    "def extractFile(filename):\n",
    "    path, file = os.path.split(filename)\n",
    "    file = file.replace(\".gz\", \"\")\n",
    "    with gzip.open(filename) as file_input:\n",
    "        with open(output_folder+file, 'wb') as file_output:\n",
    "            shutil.copyfileobj(file_input, file_output)\n",
    "    return None"
   ]
  },
  {
   "cell_type": "code",
   "execution_count": null,
   "metadata": {},
   "outputs": [],
   "source": [
    "start = time.time()\n",
    "results = ThreadPool(8).imap_unordered(extractFile, files)\n",
    "for result in results:\n",
    "    while result != None:\n",
    "        continue\n",
    "end = time.time()\n",
    "print(\"Total Time for extraction of files is {} secs!\".format(end-start))"
   ]
  },
  {
   "cell_type": "code",
   "execution_count": 5,
   "metadata": {},
   "outputs": [
    {
     "name": "stdout",
     "output_type": "stream",
     "text": [
      "Total Time for extraction of files is 1145.6709804534912 secs!\n"
     ]
    }
   ],
   "source": [
    "start = time.time()\n",
    "for file in files:\n",
    "    extractFile(file)\n",
    "end = time.time()\n",
    "print(\"Total Time for extraction of files is {} secs!\".format(end-start))"
   ]
  },
  {
   "cell_type": "code",
   "execution_count": null,
   "metadata": {},
   "outputs": [],
   "source": []
  },
  {
   "cell_type": "code",
   "execution_count": null,
   "metadata": {},
   "outputs": [],
   "source": []
  },
  {
   "cell_type": "code",
   "execution_count": 1,
   "metadata": {},
   "outputs": [],
   "source": [
    "import concurrent.futures\n",
    "import os\n",
    "import glob\n",
    "import time\n",
    "import shutil\n",
    "import gzip"
   ]
  },
  {
   "cell_type": "code",
   "execution_count": 4,
   "metadata": {},
   "outputs": [],
   "source": [
    "input_folder = r\"H:/INFO7250_BigData/Project/Data/\"\n",
    "output_folder = r\"../Main_Data/\"\n",
    "file_type = \".tsv.gz\"\n",
    "\n",
    "NUM_WORKERS = int(os.environ['NUMBER_OF_PROCESSORS'])"
   ]
  },
  {
   "cell_type": "code",
   "execution_count": 5,
   "metadata": {},
   "outputs": [
    {
     "name": "stdout",
     "output_type": "stream",
     "text": [
      "Total Number of file to extract: 51\n"
     ]
    }
   ],
   "source": [
    "files = glob.glob(input_folder+\"*.tsv.gz\")\n",
    "print(\"Total Number of file to extract: {}\".format(len(files)))"
   ]
  },
  {
   "cell_type": "code",
   "execution_count": 6,
   "metadata": {},
   "outputs": [],
   "source": [
    "def extractFile(filename):\n",
    "    path, file = os.path.split(filename)\n",
    "    file = file.replace(\".gz\", \"\")\n",
    "    with gzip.open(filename) as file_input:\n",
    "        with open(output_folder+file, 'wb') as file_output:\n",
    "            shutil.copyfileobj(file_input, file_output)\n",
    "    return None"
   ]
  },
  {
   "cell_type": "code",
   "execution_count": 7,
   "metadata": {},
   "outputs": [
    {
     "name": "stdout",
     "output_type": "stream",
     "text": [
      "Total Time for extraction of files is 1601.342586517334 secs!\n"
     ]
    }
   ],
   "source": [
    "start = time.time()\n",
    "\n",
    "with concurrent.futures.ThreadPoolExecutor(max_workers=NUM_WORKERS) as executor:\n",
    "    futures = {executor.submit(extractFile, file) for file in files}\n",
    "    concurrent.futures.wait(futures)\n",
    "\n",
    "end = time.time()\n",
    "print(\"Total Time for extraction of files is {} secs!\".format(end-start))"
   ]
  },
  {
   "cell_type": "markdown",
   "metadata": {},
   "source": [
    "bq --location=US load --null_marker=NULL --quote \"\" -E UTF-8 --autodetect --source_format=CSV --field_delimiter \\t AWS_Product_Review.Review D:\\Semester4\\INFO7250-BigData\\Project\\Data\\amazon_reviews_us_Gift_Card_v1_00.tsv.gz"
   ]
  },
  {
   "cell_type": "markdown",
   "metadata": {},
   "source": [
    "#Challenges:\n",
    "1. DOWNLOAD SPEED LIMITATION\n",
    "2. DISK I/O OPERATION LIMITATION\n",
    "3. VM DISK LOW\n",
    "4. HADOOP SPACE LOW\n",
    "5."
   ]
  },
  {
   "cell_type": "code",
   "execution_count": null,
   "metadata": {},
   "outputs": [],
   "source": []
  }
 ],
 "metadata": {
  "kernelspec": {
   "display_name": "Python 3",
   "language": "python",
   "name": "python3"
  },
  "language_info": {
   "codemirror_mode": {
    "name": "ipython",
    "version": 3
   },
   "file_extension": ".py",
   "mimetype": "text/x-python",
   "name": "python",
   "nbconvert_exporter": "python",
   "pygments_lexer": "ipython3",
   "version": "3.7.3"
  }
 },
 "nbformat": 4,
 "nbformat_minor": 2
}
