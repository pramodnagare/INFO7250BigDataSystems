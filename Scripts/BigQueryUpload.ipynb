{
 "cells": [
  {
   "cell_type": "code",
   "execution_count": 1,
   "metadata": {},
   "outputs": [],
   "source": [
    "import os\n",
    "import glob\n",
    "import time\n",
    "import concurrent.futures"
   ]
  },
  {
   "cell_type": "code",
   "execution_count": 2,
   "metadata": {},
   "outputs": [
    {
     "name": "stdout",
     "output_type": "stream",
     "text": [
      "There are 8 number of processors\n"
     ]
    }
   ],
   "source": [
    "input_folder = r\"D:\\Semester4\\INFO7250-BigData\\Project/Data/\"\n",
    "file_type = \".tsv.gz\"\n",
    "\n",
    "NUM_WORKERS = int(os.environ['NUMBER_OF_PROCESSORS'])\n",
    "print(\"There are {} number of processors\".format(NUM_WORKERS))"
   ]
  },
  {
   "cell_type": "code",
   "execution_count": 3,
   "metadata": {},
   "outputs": [
    {
     "name": "stdout",
     "output_type": "stream",
     "text": [
      "Total Number of file to upload: 51\n"
     ]
    }
   ],
   "source": [
    "files = glob.glob(input_folder+\"*.tsv.gz\")\n",
    "print(\"Total Number of file to upload: {}\".format(len(files)))"
   ]
  },
  {
   "cell_type": "code",
   "execution_count": 4,
   "metadata": {},
   "outputs": [],
   "source": [
    "def uploadFile(filename):\n",
    "    path, file = os.path.split(filename)\n",
    "    print(\"Uploading file {} on big query\".format(file))\n",
    "    command = \"bq --location=US load --null_marker=NULL --quote \\\"\\\" \"\n",
    "    command += \"-E UTF-8 --autodetect --source_format=CSV --field_delimiter \\\\t AWS_Product_Review.Reviews \" + filename\n",
    "    os.system(command)\n",
    "    return None"
   ]
  },
  {
   "cell_type": "code",
   "execution_count": 6,
   "metadata": {},
   "outputs": [
    {
     "name": "stdout",
     "output_type": "stream",
     "text": [
      "Uploading file amazon_reviews_us_Personal_Care_Appliances_v1_00.tsv.gz on big query\n"
     ]
    }
   ],
   "source": [
    "for file in files[:1]:\n",
    "    file = r\"D:\\Semester4\\INFO7250-BigData\\Project\\Data\\amazon_reviews_us_Personal_Care_Appliances_v1_00.tsv.gz\"\n",
    "    uploadFile(file)"
   ]
  },
  {
   "cell_type": "code",
   "execution_count": null,
   "metadata": {},
   "outputs": [],
   "source": [
    "start = time.time()\n",
    "\n",
    "with concurrent.futures.ThreadPoolExecutor(max_workers=NUM_WORKERS) as executor:\n",
    "    futures = {executor.submit(uploadFile, file) for file in files}\n",
    "    concurrent.futures.wait(futures)\n",
    "\n",
    "end = time.time()\n",
    "print(\"Total Time for uploading of files is {} secs!\".format(end-start))"
   ]
  }
 ],
 "metadata": {
  "kernelspec": {
   "display_name": "Python 3",
   "language": "python",
   "name": "python3"
  },
  "language_info": {
   "codemirror_mode": {
    "name": "ipython",
    "version": 3
   },
   "file_extension": ".py",
   "mimetype": "text/x-python",
   "name": "python",
   "nbconvert_exporter": "python",
   "pygments_lexer": "ipython3",
   "version": "3.7.3"
  }
 },
 "nbformat": 4,
 "nbformat_minor": 2
}
