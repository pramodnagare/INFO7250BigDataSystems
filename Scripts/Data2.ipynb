{
 "cells": [
  {
   "cell_type": "code",
   "execution_count": 1,
   "metadata": {},
   "outputs": [],
   "source": [
    "#This jupyter notebok is for downloading data parallelly from s3 bucket to local file system:"
   ]
  },
  {
   "cell_type": "code",
   "execution_count": 2,
   "metadata": {},
   "outputs": [],
   "source": [
    "import boto3\n",
    "import botocore\n",
    "import time\n",
    "import os\n",
    "import pandas as pd\n",
    "from multiprocessing.pool import ThreadPool"
   ]
  },
  {
   "cell_type": "code",
   "execution_count": 3,
   "metadata": {},
   "outputs": [],
   "source": [
    "data_link = \"amazon-reviews-pds\"\n",
    "output_dir = \"../Data2/\"\n",
    "\n",
    "s3 = boto3.client('s3')\n",
    "response = s3.list_objects_v2(Bucket=data_link)"
   ]
  },
  {
   "cell_type": "code",
   "execution_count": 12,
   "metadata": {},
   "outputs": [],
   "source": [
    "def downloadFile(fileItem):\n",
    "    head, file = os.path.split(fileItem)\n",
    "    filename = output_dir + file\n",
    "    s = time.time()\n",
    "    s3.download_file(Bucket=data_link, Key=fileItem, Filename=filename)\n",
    "    e = time.time()\n",
    "    print(\"Downloaded file {} in {} secs!\".format(fileItem, e-s))\n",
    "    return None"
   ]
  },
  {
   "cell_type": "code",
   "execution_count": 5,
   "metadata": {},
   "outputs": [],
   "source": [
    "data = []\n",
    "for fileItem in response['Contents']:\n",
    "    if str(fileItem['Key']).startswith('tsv'):\n",
    "        head, file = os.path.split(fileItem['Key'])\n",
    "        if file != \"\":\n",
    "            data.append(fileItem)"
   ]
  },
  {
   "cell_type": "code",
   "execution_count": 6,
   "metadata": {},
   "outputs": [],
   "source": [
    "df = pd.DataFrame(data)\n",
    "df = df.sort_values('Size').reset_index()"
   ]
  },
  {
   "cell_type": "code",
   "execution_count": 47,
   "metadata": {},
   "outputs": [],
   "source": [
    "batches = {}\n",
    "batch_num = 0\n",
    "data = []\n",
    "size_sum = 0\n",
    "for i in range(df.shape[0]):\n",
    "    size_sum += int(df['Size'][i])\n",
    "    data.append(df['Key'][i])\n",
    "    if (size_sum/1024/1024 > 200) or (len(data) > 8):\n",
    "        if len(data) > 1:\n",
    "            data.pop()\n",
    "            batches[batch_num] = data\n",
    "            size_sum = int(df['Size'][i])\n",
    "            data = [df['Key'][i]]\n",
    "        else:\n",
    "            batches[batch_num] = data\n",
    "            size_sum = 0\n",
    "            data = []\n",
    "        batch_num += 1\n",
    "batches[batch_num] = data"
   ]
  },
  {
   "cell_type": "code",
   "execution_count": 13,
   "metadata": {},
   "outputs": [
    {
     "name": "stdout",
     "output_type": "stream",
     "text": [
      "Downloaded file tsv/index.txt in 0.2660233974456787 secs!\n",
      "Downloaded file tsv/sample_fr.tsv in 0.41094112396240234 secs!\n",
      "Downloaded file tsv/sample_us.tsv in 0.4139399528503418 secs!\n",
      "Downloaded file tsv/amazon_reviews_us_Gift_Card_v1_00.tsv.gz in 2.1560301780700684 secs!\n",
      "Downloaded file tsv/amazon_reviews_us_Mobile_Electronics_v1_00.tsv.gz in 3.4980218410491943 secs!\n",
      "Downloaded file tsv/amazon_reviews_us_Major_Appliances_v1_00.tsv.gz in 3.859261989593506 secs!\n",
      "Downloaded file tsv/amazon_reviews_us_Digital_Software_v1_00.tsv.gz in 4.297243356704712 secs!\n",
      "Downloaded file tsv/amazon_reviews_us_Personal_Care_Appliances_v1_00.tsv.gz in 5.450909852981567 secs!\n",
      "Downloaded file tsv/amazon_reviews_us_Luggage_v1_00.tsv.gz in 16.355531215667725 secs!\n",
      "Downloaded file tsv/amazon_reviews_us_Video_v1_00.tsv.gz in 17.057432651519775 secs!\n",
      "Downloaded file tsv/amazon_reviews_multilingual_FR_v1_00.tsv.gz in 17.464447021484375 secs!\n",
      "Downloaded file tsv/amazon_reviews_us_Software_v1_00.tsv.gz in 17.991703510284424 secs!\n",
      "Downloaded file tsv/amazon_reviews_multilingual_JP_v1_00.tsv.gz in 19.267282724380493 secs!\n",
      "Downloaded file tsv/amazon_reviews_us_Home_Entertainment_v1_00.tsv.gz in 15.759724617004395 secs!\n",
      "Downloaded file tsv/amazon_reviews_us_Watches_v1_00.tsv.gz in 16.358394145965576 secs!\n",
      "Downloaded file tsv/amazon_reviews_us_Jewelry_v1_00.tsv.gz in 21.00842571258545 secs!\n",
      "Downloaded file tsv/amazon_reviews_multilingual_DE_v1_00.tsv.gz in 21.745391368865967 secs!\n",
      "Downloaded file tsv/amazon_reviews_us_Tools_v1_00.tsv.gz in 13.920133590698242 secs!\n",
      "Downloaded file tsv/amazon_reviews_us_Baby_v1_00.tsv.gz in 15.287094116210938 secs!\n",
      "Downloaded file tsv/amazon_reviews_us_Camera_v1_00.tsv.gz in 19.350379467010498 secs!\n",
      "Downloaded file tsv/amazon_reviews_us_Video_Games_v1_00.tsv.gz in 20.341902017593384 secs!\n",
      "Downloaded file tsv/amazon_reviews_us_Home_Improvement_v1_00.tsv.gz in 21.46877098083496 secs!\n",
      "Downloaded file tsv/amazon_reviews_us_Office_Products_v1_00.tsv.gz in 20.987677335739136 secs!\n",
      "Downloaded file tsv/amazon_reviews_us_Mobile_Apps_v1_00.tsv.gz in 23.6255624294281 secs!\n",
      "Downloaded file tsv/amazon_reviews_us_Automotive_v1_00.tsv.gz in 24.63616681098938 secs!\n",
      "Downloaded file tsv/amazon_reviews_us_Shoes_v1_00.tsv.gz in 25.70531964302063 secs!\n",
      "Downloaded file tsv/amazon_reviews_us_Apparel_v1_00.tsv.gz in 26.682393789291382 secs!\n",
      "Downloaded file tsv/amazon_reviews_us_Electronics_v1_00.tsv.gz in 29.783952713012695 secs!\n",
      "Downloaded file tsv/amazon_reviews_us_Toys_v1_00.tsv.gz in 35.903021812438965 secs!\n",
      "Downloaded file tsv/amazon_reviews_us_Sports_v1_00.tsv.gz in 30.88508892059326 secs!\n",
      "Downloaded file tsv/amazon_reviews_us_Beauty_v1_00.tsv.gz in 37.72193360328674 secs!\n",
      "Downloaded file tsv/amazon_reviews_us_Kitchen_v1_00.tsv.gz in 32.86459541320801 secs!\n",
      "Downloaded file tsv/amazon_reviews_us_Health_Personal_Care_v1_00.tsv.gz in 39.44296431541443 secs!\n",
      "Downloaded file tsv/amazon_reviews_us_Home_v1_00.tsv.gz in 53.707013845443726 secs!\n",
      "Downloaded file tsv/amazon_reviews_us_Digital_Ebook_Purchase_v1_01.tsv.gz in 55.1361346244812 secs!\n",
      "Downloaded file tsv/amazon_reviews_us_Books_v1_02.tsv.gz in 50.48358464241028 secs!\n",
      "Downloaded file tsv/amazon_reviews_multilingual_US_v1_00.tsv.gz in 55.92669677734375 secs!\n",
      "Downloaded file tsv/amazon_reviews_us_Video_DVD_v1_00.tsv.gz in 61.44066095352173 secs!\n",
      "Downloaded file tsv/amazon_reviews_us_PC_v1_00.tsv.gz in 64.76397442817688 secs!\n",
      "Downloaded file tsv/amazon_reviews_us_Music_v1_00.tsv.gz in 63.508649587631226 secs!\n",
      "Downloaded file tsv/amazon_reviews_us_Wireless_v1_00.tsv.gz in 73.32586193084717 secs!\n",
      "Downloaded file tsv/amazon_reviews_us_Digital_Ebook_Purchase_v1_00.tsv.gz in 106.43529438972473 secs!\n",
      "Downloaded file tsv/amazon_reviews_us_Books_v1_01.tsv.gz in 98.74556374549866 secs!\n",
      "Downloaded file tsv/amazon_reviews_us_Books_v1_00.tsv.gz in 89.9851930141449 secs!\n",
      "Total Time for Downloading files is 1254.9953072071075 secs!\n"
     ]
    }
   ],
   "source": [
    "start = time.time()\n",
    "for batch in batches.values():\n",
    "    results = ThreadPool(len(batch)).imap_unordered(downloadFile, batch)\n",
    "    for result in results:\n",
    "        while result != None:\n",
    "            continue\n",
    "end = time.time()\n",
    "print(\"Total Time for Downloading files is {} secs!\".format(end-start))"
   ]
  }
 ],
 "metadata": {
  "kernelspec": {
   "display_name": "Python 3",
   "language": "python",
   "name": "python3"
  },
  "language_info": {
   "codemirror_mode": {
    "name": "ipython",
    "version": 3
   },
   "file_extension": ".py",
   "mimetype": "text/x-python",
   "name": "python",
   "nbconvert_exporter": "python",
   "pygments_lexer": "ipython3",
   "version": "3.7.3"
  }
 },
 "nbformat": 4,
 "nbformat_minor": 2
}
