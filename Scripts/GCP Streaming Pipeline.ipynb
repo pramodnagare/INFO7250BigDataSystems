{
 "cells": [
  {
   "cell_type": "code",
   "execution_count": 2,
   "metadata": {},
   "outputs": [],
   "source": [
    "# !pip install google-cloud\n",
    "# !pip install google-cloud-pubsub\n",
    "# !pip install google.cloud_bigquery\n",
    "# !pip install google.cloud_storage"
   ]
  },
  {
   "cell_type": "code",
   "execution_count": 51,
   "metadata": {},
   "outputs": [],
   "source": [
    "from google.oauth2 import service_account #For GCP Account connection\n",
    "from google.cloud import pubsub_v1 # For PubSub Client\n",
    "from google.cloud import bigquery # For BigQuery Client\n",
    "from google.cloud import storage # For Cloud Storage Client\n",
    "import json # For Message syntax\n",
    "import os"
   ]
  },
  {
   "cell_type": "code",
   "execution_count": 4,
   "metadata": {},
   "outputs": [],
   "source": [
    "#Setting up the credential file\n",
    "cred = service_account.Credentials.from_service_account_file('../Configuration/INFO7250-b2d76e3086d3.json')"
   ]
  },
  {
   "cell_type": "code",
   "execution_count": 54,
   "metadata": {},
   "outputs": [],
   "source": [
    "#Setting up the Configuration Variables:\n",
    "project_id = \"info7250\"\n",
    "project_name = \"info7250\"\n",
    "topic_name = \"info7250-topic\"\n",
    "bucket_name = \"aws-review-data\"\n",
    "subscription_name = \"info7374-subscription\"\n",
    "dataset_name = \"AWS_Product_Review\"\n",
    "table_name = \"Reviews\"\n",
    "job_name = \"INFO7250_DataFlow\""
   ]
  },
  {
   "cell_type": "code",
   "execution_count": 11,
   "metadata": {},
   "outputs": [
    {
     "name": "stdout",
     "output_type": "stream",
     "text": [
      "Bucket aws-review-data created.\n"
     ]
    }
   ],
   "source": [
    "\n",
    "#Creating a Cloud Storag Bucket:\n",
    "storage_client = storage.Client(project=project_id,credentials=cred)\n",
    "bucket = storage_client.create_bucket(bucket_name)\n",
    "print('Bucket {} created.'.format(bucket.name))\n"
   ]
  },
  {
   "cell_type": "code",
   "execution_count": 13,
   "metadata": {},
   "outputs": [
    {
     "name": "stdout",
     "output_type": "stream",
     "text": [
      "Topic created: name: \"projects/info7250/topics/info7250-topic\"\n",
      "\n"
     ]
    }
   ],
   "source": [
    "\n",
    "#Creating PubSub Topic:\n",
    "publisher = pubsub_v1.PublisherClient(credentials=cred)\n",
    "topic_path = publisher.topic_path(project_id, topic_name)\n",
    "topic = publisher.create_topic(topic_path)\n",
    "print('Topic created: {}'.format(topic))\n"
   ]
  },
  {
   "cell_type": "code",
   "execution_count": 14,
   "metadata": {},
   "outputs": [
    {
     "name": "stdout",
     "output_type": "stream",
     "text": [
      "Subscription created: name: \"projects/info7250/subscriptions/info7374-subscription\"\n",
      "topic: \"projects/info7250/topics/info7250-topic\"\n",
      "push_config {\n",
      "}\n",
      "ack_deadline_seconds: 10\n",
      "message_retention_duration {\n",
      "  seconds: 604800\n",
      "}\n",
      "expiration_policy {\n",
      "  ttl {\n",
      "    seconds: 2678400\n",
      "  }\n",
      "}\n",
      "\n"
     ]
    }
   ],
   "source": [
    "\n",
    "#Creating PubSub Subscription:\n",
    "subscriber = pubsub_v1.SubscriberClient(credentials = cred)\n",
    "topic_path = subscriber.topic_path(project_id, topic_name)\n",
    "subscription_path = subscriber.subscription_path(project_id, subscription_name)\n",
    "subscription = subscriber.create_subscription(subscription_path, topic_path)\n",
    "print('Subscription created: {}'.format(subscription))\n"
   ]
  },
  {
   "cell_type": "code",
   "execution_count": 17,
   "metadata": {},
   "outputs": [
    {
     "name": "stdout",
     "output_type": "stream",
     "text": [
      "Created dataset info7250.AWS_Product_Review\n"
     ]
    }
   ],
   "source": [
    "\n",
    "#Creating a BigQuery Dataset:\n",
    "client = bigquery.Client(project=project_id, credentials=cred)\n",
    "dataset_id = client.project+\".\"+dataset_name\n",
    "dataset = bigquery.Dataset(dataset_id)\n",
    "dataset.location = \"US\"\n",
    "dataset = client.create_dataset(dataset)\n",
    "print(\"Created dataset {}.{}\".format(client.project, dataset.dataset_id))\n"
   ]
  },
  {
   "cell_type": "code",
   "execution_count": 18,
   "metadata": {},
   "outputs": [],
   "source": [
    "#Import Table schema from a JSON file:\n",
    "schema = json.loads(open('../Configuration/Reviews').read())\n",
    "table_schema = []\n",
    "for line in schema:\n",
    "    col = bigquery.SchemaField(name=line['name'], field_type=line['type'], mode=line['mode'], description=line['description'])\n",
    "    table_schema.append(col)"
   ]
  },
  {
   "cell_type": "code",
   "execution_count": 19,
   "metadata": {},
   "outputs": [
    {
     "name": "stdout",
     "output_type": "stream",
     "text": [
      "Created table info7250.AWS_Product_Review.Reviews\n"
     ]
    }
   ],
   "source": [
    "\n",
    "#Creating a BigQuery Table under the Datset created:\n",
    "table_id = project_id+\".\"+dataset_name+\".\"+table_name\n",
    "table = bigquery.Table(table_id, schema=table_schema)\n",
    "table = client.create_table(table)\n",
    "print(\"Created table {}.{}.{}\".format(table.project, table.dataset_id, table.table_id))\n"
   ]
  },
  {
   "cell_type": "markdown",
   "metadata": {},
   "source": [
    "gcloud dataflow jobs run JOB_NAME \\\n",
    "    --gcs-location gs://dataflow-templates/latest/PubSub_Subscription_to_BigQuery \\\n",
    "    --parameters \\\n",
    "inputSubscription=projects/YOUR_PROJECT_ID/subscriptions/YOUR_SUBSCRIPTION_NAME,\\\n",
    "outputTableSpec=YOUR_PROJECT_ID:YOUR_DATASET.YOUR_TABLE_NAME"
   ]
  },
  {
   "cell_type": "code",
   "execution_count": 67,
   "metadata": {},
   "outputs": [
    {
     "name": "stdout",
     "output_type": "stream",
     "text": [
      "gcloud dataflow jobs run INFO7250_DataFlow --gcs-location gs://dataflow-templates/latest/PubSub_Subscription_to_BigQuery --parameters outputTableSpec=info7250:AWS_Product_Review.Reviews,inputSubscription=projects/info7250/subscriptions/info7374-subscription\n"
     ]
    },
    {
     "data": {
      "text/plain": [
       "0"
      ]
     },
     "execution_count": 67,
     "metadata": {},
     "output_type": "execute_result"
    }
   ],
   "source": [
    "#Creating a Dataflow for PubSub to Big Query using template:\n",
    "command = \"gcloud dataflow jobs run {} --gcs-location gs://dataflow-templates/latest/PubSub_Subscription_to_BigQuery \".format(job_name)\n",
    "command += \"--parameters \"\n",
    "command += \"outputTableSpec={}:{}.{},\".format(project_id, dataset_name, table_name)\n",
    "command += \"inputSubscription=projects/{}/subscriptions/{}\".format(project_name, subscription_name)\n",
    "\n",
    "\n",
    "print(command)\n",
    "\n",
    "os.system(command)"
   ]
  },
  {
   "cell_type": "code",
   "execution_count": 69,
   "metadata": {},
   "outputs": [],
   "source": [
    "#Considering you have already created Streaming Dataflow manually using GCP Console for PubSub Subscription to BiqQuery Table.\n",
    "#Publish a real-time event/message on PubSub Topic.\n",
    "\n",
    "message_data = {\n",
    "                \"marketplace\":\"Sunil\", \n",
    "                \"customer_id\":18778586, \n",
    "                \"review_id\":\"RDIJS7QYB6XNR\", \n",
    "                \"product_id\":\"B00EDBY7X8\", \n",
    "                \"product_parent\":122952789, \n",
    "                \"product_title\":\"Pramod\",\n",
    "                \"product_category\": \"Toys\",\n",
    "                \"star_rating\":5, \n",
    "                \"helpful_votes\":0, \n",
    "                \"total_votes\":0, \n",
    "                \"vine\": False, \n",
    "                \"verified_purchase\": True, \n",
    "                \"review_headline\": \"Five Stars\", \n",
    "                \"review_body\": \"Excellent!!!\", \n",
    "                \"review_date\": \"2015-08-31\"\n",
    "                }"
   ]
  },
  {
   "cell_type": "code",
   "execution_count": 70,
   "metadata": {},
   "outputs": [],
   "source": [
    "#Formatting message data before publishing:\n",
    "message_data = json.dumps(message_data)\n",
    "message_data = message_data.encode('utf-8')\n",
    "\n",
    "#Publishing a message on the PubSub Topic Created:\n",
    "response = publisher.publish(topic_path, message_data , origin='python-sample')"
   ]
  },
  {
   "cell_type": "code",
   "execution_count": null,
   "metadata": {},
   "outputs": [],
   "source": []
  }
 ],
 "metadata": {
  "kernelspec": {
   "display_name": "Python 3",
   "language": "python",
   "name": "python3"
  },
  "language_info": {
   "codemirror_mode": {
    "name": "ipython",
    "version": 3
   },
   "file_extension": ".py",
   "mimetype": "text/x-python",
   "name": "python",
   "nbconvert_exporter": "python",
   "pygments_lexer": "ipython3",
   "version": "3.7.3"
  }
 },
 "nbformat": 4,
 "nbformat_minor": 2
}
